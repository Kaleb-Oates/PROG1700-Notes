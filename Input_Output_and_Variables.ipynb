{
 "cells": [
  {
   "cell_type": "code",
   "execution_count": null,
   "metadata": {
    "dotnet_interactive": {
     "language": "pwsh"
    },
    "vscode": {
     "languageId": "dotnet-interactive.pwsh"
    }
   },
   "outputs": [
    {
     "name": "stdout",
     "output_type": "stream",
     "text": [
      "Hello World!\r\n"
     ]
    }
   ],
   "source": [
    "Write-Host \"Hello World!\""
   ]
  },
  {
   "cell_type": "code",
   "execution_count": null,
   "metadata": {
    "dotnet_interactive": {
     "language": "pwsh"
    },
    "vscode": {
     "languageId": "dotnet-interactive.pwsh"
    }
   },
   "outputs": [],
   "source": [
    "# a comment \n",
    "# these aren't executable lines of code\n",
    "# add as many as needed to explain your script\n",
    "# don't over or under comment your scripts\n",
    "# guideline: a commeny every 3-4 lines"
   ]
  },
  {
   "cell_type": "code",
   "execution_count": null,
   "metadata": {
    "dotnet_interactive": {
     "language": "pwsh"
    },
    "vscode": {
     "languageId": "dotnet-interactive.pwsh"
    }
   },
   "outputs": [],
   "source": [
    "<#\n",
    "    a block comment.\n",
    "    this is just one commment to describe something large.\n",
    "    This type of comment is not needed very often.\n",
    "#>\n"
   ]
  },
  {
   "cell_type": "code",
   "execution_count": null,
   "metadata": {
    "dotnet_interactive": {
     "language": "pwsh"
    },
    "vscode": {
     "languageId": "dotnet-interactive.pwsh"
    }
   },
   "outputs": [],
   "source": [
    "# clear the powershell window \n",
    "Clear-Host"
   ]
  },
  {
   "cell_type": "code",
   "execution_count": null,
   "metadata": {
    "dotnet_interactive": {
     "language": "pwsh"
    },
    "vscode": {
     "languageId": "dotnet-interactive.pwsh"
    }
   },
   "outputs": [
    {
     "name": "stdout",
     "output_type": "stream",
     "text": [
      "Hello World!\r\n"
     ]
    }
   ],
   "source": [
    "# it is legal to leave the quotes off a Write-Host\n",
    "Write-Host Hello World!"
   ]
  },
  {
   "cell_type": "code",
   "execution_count": null,
   "metadata": {
    "dotnet_interactive": {
     "language": "pwsh"
    },
    "vscode": {
     "languageId": "dotnet-interactive.pwsh"
    }
   },
   "outputs": [],
   "source": [
    "# to create a variable\n",
    "\n",
    "# good names for variables\n",
    "$fullName = \"Kaleb Oates\"\n",
    "$a = 3 # good use of letter 'a'\n",
    "$b = 6\n",
    "$pi = 3.14159\n",
    "$address = \"5685 Leed St\"\n",
    "\n",
    "# ad names for variables \n",
    "$123 = 456 # don't use all numbers\n",
    "$_@#@ = don't use special characters\n",
    "$123address = \"123 somewhere st.\" # don't start with numbers\n",
    "$first name = \"Kaleb\" # don't include spaces \n",
    "$a = \"Kaleb\" # bad use of letter 'a'\n",
    "\n",
    "# best practices\n",
    "$firstName = \"Kaleb\" # \"camel casing\"\n",
    "$myStreetAddress = \"123 somewhere Dr.\"\n",
    "$LastName = \"Oates\" # \"Pascal CAsing\"\n",
    "$YourStreetAddress = \"111 Anywhere St.\"\n",
    "\n",
    "\n"
   ]
  },
  {
   "cell_type": "code",
   "execution_count": null,
   "metadata": {
    "dotnet_interactive": {
     "language": "pwsh"
    },
    "vscode": {
     "languageId": "dotnet-interactive.pwsh"
    }
   },
   "outputs": [
    {
     "name": "stdout",
     "output_type": "stream",
     "text": [
      "Int32\r\n",
      "Double\r\n",
      "String\r\n"
     ]
    }
   ],
   "source": [
    "# data types\n",
    "$integer = 123\n",
    "$integer.GetType().Name\n",
    "$decimal = 1.2345\n",
    "$decimal.GetType().name\n",
    "$string = \"Any text is a string\"\n",
    "$string.GetType().Name"
   ]
  },
  {
   "cell_type": "code",
   "execution_count": null,
   "metadata": {
    "dotnet_interactive": {
     "language": "pwsh"
    },
    "vscode": {
     "languageId": "dotnet-interactive.pwsh"
    }
   },
   "outputs": [
    {
     "name": "stdout",
     "output_type": "stream",
     "text": [
      "3\r\n",
      "-1\r\n",
      "0\r\n",
      "0.5\r\n"
     ]
    }
   ],
   "source": [
    "#simple math\n",
    "$num1 = 1\n",
    "$num2 = 2\n",
    "Write-Host ($num1 + $num2) # addition\n",
    "Write-Host ($num1 - $num2) # subtraction\n",
    "Write-Host ($num1 * $sum2) # multiplication\n",
    "Write-Host ($num1 / $num2) # divide\n"
   ]
  },
  {
   "cell_type": "code",
   "execution_count": null,
   "metadata": {
    "dotnet_interactive": {
     "language": "pwsh"
    },
    "vscode": {
     "languageId": "dotnet-interactive.pwsh"
    }
   },
   "outputs": [
    {
     "name": "stdout",
     "output_type": "stream",
     "text": [
      "1 + 2 = 1 + 2\r\n",
      "1 + 2 = 3\r\n"
     ]
    }
   ],
   "source": [
    "# math with a nicer output\n",
    "$num1 = 1\n",
    "$numm2 = 2\n",
    "Write-Host $num1 + $num2 = $num1 + $num2 # addition\n",
    "Write-Host \"$num1 + $num2 =\" ($num1 + $num2) # addition"
   ]
  },
  {
   "cell_type": "code",
   "execution_count": null,
   "metadata": {
    "dotnet_interactive": {
     "language": "pwsh"
    },
    "vscode": {
     "languageId": "dotnet-interactive.pwsh"
    }
   },
   "outputs": [
    {
     "name": "stdout",
     "output_type": "stream",
     "text": [
      "Home Folder: C:\\Users\\Kaleb\r\n",
      "Profile: C:\\Users\\Kaleb\\Documents\\PowerShell\\Microsoft.dotnet-interactive_profile.ps1\r\n",
      "\u001b[91mPSVersionTable.OS: \r\n",
      "\u001b[96mLine |\r\n",
      "\u001b[96m   4 | \u001b[0m Write-Host \"PowerShell: $(\u001b[96mPSVersionTable.OS\u001b[0m)\"\r\n",
      "\u001b[96m     | \u001b[91m                           ~~~~~~~~~~~~~~~~~\r\n",
      "\u001b[91m\u001b[96m     | \u001b[91mThe term 'PSVersionTable.OS' is not recognized as a name of a cmdlet, function, script file, or executable program.\r\n",
      "Check the spelling of the name, or if a path was included, verify that the path is correct and try again.\u001b[0m\r\n",
      "PowerShell: \r\n",
      "PWD: C:\\Users\\Kaleb\\Documents\\Notebooks\r\n",
      "OneDrive: \r\n"
     ]
    }
   ],
   "source": [
    "# enviroment variables \n",
    "Write-Host \"Home Folder: $HOME\"\n",
    "Write-Host \"Profile: $PROFILE\"\n",
    "Write-Host \"PowerShell: $(PSVersionTable.OS)\"\n",
    "Write-Host \"PWD: $PWD\"\n",
    "Write-Host \"OneDrive: $($OneDrive)\""
   ]
  },
  {
   "cell_type": "code",
   "execution_count": null,
   "metadata": {
    "dotnet_interactive": {
     "language": "pwsh"
    },
    "vscode": {
     "languageId": "dotnet-interactive.pwsh"
    }
   },
   "outputs": [],
   "source": [
    "# combining data types \n",
    "1 + 2         # addition of integers\n",
    "\"1\" + \"2\"     # concatenation of strings\n",
    "\"1\" + 2       # concatenation of strings\n",
    "1 +\"2\"        # addition of integers\n",
    "\"1a\" + 2      #concatenation of strings \n",
    "#1 + \"2a\"     # error!\n",
    "\"one\" + \"two\" # still just strings \n",
    "#one + two    # error \n",
    "1.1 + 2.2     # addition of integers\n",
    "\"1.1\" \"2.2\"   # concatenation of strings\n",
    "1.1 + \"2.2\"   # concatenation of strings\n",
    "1.1 + \"2.2\"   # addition of integers\n",
    "\n",
    "\n",
    "\n"
   ]
  },
  {
   "cell_type": "code",
   "execution_count": null,
   "metadata": {
    "dotnet_interactive": {
     "language": "pwsh"
    },
    "vscode": {
     "languageId": "dotnet-interactive.pwsh"
    }
   },
   "outputs": [
    {
     "name": "stdout",
     "output_type": "stream",
     "text": [
      "string\r\n",
      "123\r\n",
      "3.14159\r\n",
      "Num = 12345 3.14159 more text\r\n",
      "num = 12345 3.14195 more text\r\n"
     ]
    }
   ],
   "source": [
    "# outputting data types\n",
    "Write-Host \"string\"\n",
    "Write-Host 123\n",
    "Write-Host 3.14159\n",
    "Write-Host \"Num =\" 12345 3.14159 \"more text\"   # notice the spaces!\n",
    "Write-Host \"num =\", 12345, 3.14195, \"more text\" # using commas instead\n",
    "\n"
   ]
  },
  {
   "cell_type": "code",
   "execution_count": null,
   "metadata": {
    "dotnet_interactive": {
     "language": "pwsh"
    },
    "vscode": {
     "languageId": "dotnet-interactive.pwsh"
    }
   },
   "outputs": [
    {
     "name": "stdout",
     "output_type": "stream",
     "text": [
      "8\r\n",
      "5\r\n",
      "12\r\n",
      "13\r\n",
      "12.45\r\n",
      "3.14159265358979\r\n",
      "12\r\n",
      "123\r\n",
      "123.435\r\n",
      "123\r\n"
     ]
    }
   ],
   "source": [
    "# more math\n",
    " \n",
    "# exponents (using the .NET framework\n",
    "[Math]::Pow(2, 3)         # 2 to power 3 (a.k.a \"2 cubed\")\n",
    "[Math]::Sqrt(25)          # the square root of 25 \n",
    "\n",
    "#decimals\n",
    "[Math]::Floor(12.458)         # removes the decimal\n",
    "[Math]::Ceiling(12.458)       # always round up\n",
    "[Math]::Round(12.45489876, 2) # rounds to 2 decimal places\n",
    "[Math]::PI                    # easy use of PI\n",
    "\n",
    "# some PowerShell methods instead\n",
    "[int]12.458\n",
    "[int]\"123\"  #error\n",
    "[string]123.435\n",
    "[double]123"
   ]
  },
  {
   "cell_type": "code",
   "execution_count": null,
   "metadata": {
    "dotnet_interactive": {
     "language": "pwsh"
    },
    "vscode": {
     "languageId": "dotnet-interactive.pwsh"
    }
   },
   "outputs": [
    {
     "name": "stdout",
     "output_type": "stream",
     "text": [
      "2\r\n",
      "2.2\r\n"
     ]
    }
   ],
   "source": [
    "# integer division\n",
    "10 / 5 \n",
    "[int]11 / 5\n",
    "11 % 5              # modulus division (remainder)"
   ]
  },
  {
   "cell_type": "code",
   "execution_count": null,
   "metadata": {
    "dotnet_interactive": {
     "language": "pwsh"
    },
    "vscode": {
     "languageId": "dotnet-interactive.pwsh"
    }
   },
   "outputs": [],
   "source": []
  }
 ],
 "metadata": {
  "kernelspec": {
   "display_name": ".NET (PowerShell)",
   "language": "PowerShell",
   "name": ".net-powershell"
  },
  "language_info": {
   "name": "PowerShell"
  },
  "orig_nbformat": 4
 },
 "nbformat": 4,
 "nbformat_minor": 2
}
